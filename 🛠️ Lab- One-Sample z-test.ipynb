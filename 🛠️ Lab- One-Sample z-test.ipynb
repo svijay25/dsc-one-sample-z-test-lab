{
 "cells": [
  {
   "cell_type": "markdown",
   "metadata": {},
   "source": [
    "# One-Sample z-test - Lab\n",
    "\n",
    "## Introduction\n",
    "In this lab, you'll perform a few quick tests to help you better understand how hypothesis testing works.\n",
    "\n",
    "## Objectives\n",
    "You will be able to:\n",
    "\n",
    "* Explain use cases for a 1-sample z-test\n",
    "* Set up null and alternative hypotheses\n",
    "* Use the z-table and scipy methods to acquire the p value for a given z-score\n",
    "* Calculate and interpret p-value for significance of results\n",
    "\n",
    "## Exercise 1\n",
    "A fast-food chain claims that the mean time to order food at their restaurants is 60 seconds, with a standard deviation of 30 seconds. You decide to put this claim to the test and go to one of the restaurants to observe actual waiting times. You take a sample of 36 customers and find that the mean order time was 75 seconds. Does this finding provide enough evidence to contradict the fast food chain's claim of fast service?\n",
    "\n",
    "Follow the 5 steps shown in previous lesson and use $\\alpha$ = 0.05. "
   ]
  },
  {
   "cell_type": "markdown",
   "metadata": {},
   "source": [
    "# State your null and alternative hypotheses\n",
    "\n",
    "Null and Alternative Hypotheses\n",
    "For this hypothesis test, we are examining whether the mean order time at the fast-food chain's restaurant is different from the claimed mean order time of 60 seconds.\n",
    "\n",
    "Null Hypothesis (H₀): The mean order time is 60 seconds. [ H₀: \\mu = 60 ]\n",
    "\n",
    "Alternative Hypothesis (H₁): The mean order time is not 60 seconds. [ H₁: \\mu \\neq 60 ]\n",
    "\n",
    "These hypotheses set up a two-tailed test, where we are interested in detecting any significant difference from the claimed mean, whether it is higher or lower."
   ]
  },
  {
   "cell_type": "code",
   "execution_count": 1,
   "metadata": {},
   "outputs": [
    {
     "name": "stdout",
     "output_type": "stream",
     "text": [
      "Z-score: 3.0\n",
      "P-value: 0.002699796063260207\n",
      "Reject the null hypothesis.\n"
     ]
    }
   ],
   "source": [
    "# Your solution here\n",
    "import scipy.stats as stats\n",
    "\n",
    "# Given data\n",
    "sample_mean = 75\n",
    "population_mean = 60\n",
    "population_std = 30\n",
    "sample_size = 36\n",
    "alpha = 0.05\n",
    "\n",
    "# Calculate the z-score\n",
    "z_score = (sample_mean - population_mean) / (population_std / (sample_size ** 0.5))\n",
    "\n",
    "# Calculate the p-value for a two-tailed test\n",
    "p_value = 2 * (1 - stats.norm.cdf(abs(z_score)))\n",
    "\n",
    "# Print the results\n",
    "print(f\"Z-score: {z_score}\")\n",
    "print(f\"P-value: {p_value}\")\n",
    "\n",
    "# Decision\n",
    "if p_value < alpha:\n",
    "    print(\"Reject the null hypothesis.\")\n",
    "else:\n",
    "    print(\"Fail to reject the null hypothesis.\")\n",
    "\n",
    "\n",
    "# (p = 0.0013498980316301035, z = 3.0)"
   ]
  },
  {
   "cell_type": "markdown",
   "metadata": {},
   "source": [
    "# Interpret the results in terms of the p-value\n",
    "This output confirms that there is enough evidence to reject the null hypothesis, supporting the conclusion that the mean order time is significantly different from 60 seconds.\n"
   ]
  },
  {
   "cell_type": "markdown",
   "metadata": {},
   "source": [
    "## Exercise 2\n",
    "\n",
    "25 students complete a preparation program for taking the SAT test.  Here are the SAT scores from the 25 students who completed the program:\n",
    "\n",
    "``\n",
    "434 694 457 534 720 400 484 478 610 641 425 636 454 \n",
    "514 563 370 499 640 501 625 612 471 598 509 531\n",
    "``\n",
    "\n",
    "We know that the population average for SAT scores is 500 with a standard deviation of 100.\n",
    "\n",
    "Are our 25 students’ SAT scores significantly higher than the population's mean score? \n",
    "\n",
    "*Note that the SAT preparation program claims that it will increase (and not decrease) the SAT score.  So, you can conduct a one-directional test. (alpha = .05).*"
   ]
  },
  {
   "cell_type": "markdown",
   "metadata": {},
   "source": [
    "# State your hypotheses \n",
    "Null and Alternative Hypotheses\n",
    "Null Hypothesis (H₀): The mean SAT score of the students who completed the program is less than or equal to the population mean SAT score. [ H₀: \\mu \\leq 500 ]\n",
    "\n",
    "Alternative Hypothesis (H₁): The mean SAT score of the students who completed the program is greater than the population mean SAT score. [ H₁: \\mu > 500 ]"
   ]
  },
  {
   "cell_type": "code",
   "execution_count": 2,
   "metadata": {},
   "outputs": [
    {
     "name": "stdout",
     "output_type": "stream",
     "text": [
      "Sample mean: 536.0\n",
      "Z-score: 1.8\n",
      "P-value: 0.03593031911292577\n",
      "Reject the null hypothesis. The students' SAT scores are significantly higher than the population mean.\n"
     ]
    }
   ],
   "source": [
    "# Give your solution here \n",
    "import numpy as np\n",
    "import scipy.stats as stats\n",
    "\n",
    "# Given data\n",
    "scores = [434, 694, 457, 534, 720, 400, 484, 478, 610, 641, 425, 636, 454, 514, 563, 370, 499, 640, 501, 625, 612, 471, 598, 509, 531]\n",
    "population_mean = 500\n",
    "population_std = 100\n",
    "alpha = 0.05\n",
    "\n",
    "# Calculate the sample mean\n",
    "sample_mean = np.mean(scores)\n",
    "\n",
    "# Calculate the sample size\n",
    "sample_size = len(scores)\n",
    "\n",
    "# Calculate the z-score\n",
    "z_score = (sample_mean - population_mean) / (population_std / np.sqrt(sample_size))\n",
    "\n",
    "# Calculate the p-value for a one-tailed test\n",
    "p_value = 1 - stats.norm.cdf(z_score)\n",
    "\n",
    "# Print the results\n",
    "print(f\"Sample mean: {sample_mean}\")\n",
    "print(f\"Z-score: {z_score}\")\n",
    "print(f\"P-value: {p_value}\")\n",
    "\n",
    "# Decision\n",
    "if p_value < alpha:\n",
    "    print(\"Reject the null hypothesis. The students' SAT scores are significantly higher than the population mean.\")\n",
    "else:\n",
    "    print(\"Fail to reject the null hypothesis. The students' SAT scores are not significantly higher than the population mean.\")\n",
    "\n",
    "\n",
    "\n",
    "# p = 0.03593031911292577, z = 1.8"
   ]
  },
  {
   "cell_type": "markdown",
   "metadata": {},
   "source": [
    "# Interpret the results in terms of the p-value\n",
    "Conclusion\n",
    "Based on the calculated p-value and the significance level, we will make a decision on whether to reject the null hypothesis. If the p-value is less than 0.05, we reject the null hypothesis and conclude that the students' SAT scores are significantly higher than the population mean. If the p-value is greater than 0.05, we fail to reject the null hypothesis and conclude that the students' SAT scores are not significantly higher than the population mean."
   ]
  },
  {
   "cell_type": "markdown",
   "metadata": {},
   "source": [
    "## Summary\n",
    "\n",
    "In this lesson, you conducted a couple of simple tests comparing sample and population means, in an attempt to reject our null hypotheses. This provides you with a strong foundation to move ahead with more advanced tests and approaches later on."
   ]
  }
 ],
 "metadata": {
  "kernelspec": {
   "display_name": "Python 3 (ipykernel)",
   "language": "python",
   "name": "python3"
  },
  "language_info": {
   "codemirror_mode": {
    "name": "ipython",
    "version": 3
   },
   "file_extension": ".py",
   "mimetype": "text/x-python",
   "name": "python",
   "nbconvert_exporter": "python",
   "pygments_lexer": "ipython3",
   "version": "3.12.4"
  },
  "toc": {
   "base_numbering": 1,
   "nav_menu": {},
   "number_sections": true,
   "sideBar": true,
   "skip_h1_title": false,
   "title_cell": "Table of Contents",
   "title_sidebar": "Contents",
   "toc_cell": false,
   "toc_position": {},
   "toc_section_display": true,
   "toc_window_display": false
  }
 },
 "nbformat": 4,
 "nbformat_minor": 4
}
